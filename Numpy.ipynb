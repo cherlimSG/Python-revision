{
  "nbformat": 4,
  "nbformat_minor": 0,
  "metadata": {
    "colab": {
      "name": "Numpy.ipynb",
      "provenance": [],
      "authorship_tag": "ABX9TyP/bCx1wwNYfJKAgUi2DAhY",
      "include_colab_link": true
    },
    "kernelspec": {
      "name": "python3",
      "display_name": "Python 3"
    },
    "language_info": {
      "name": "python"
    }
  },
  "cells": [
    {
      "cell_type": "markdown",
      "metadata": {
        "id": "view-in-github",
        "colab_type": "text"
      },
      "source": [
        "<a href=\"https://colab.research.google.com/github/cherlimSG/Python-revision/blob/main/Numpy.ipynb\" target=\"_parent\"><img src=\"https://colab.research.google.com/assets/colab-badge.svg\" alt=\"Open In Colab\"/></a>"
      ]
    },
    {
      "cell_type": "markdown",
      "metadata": {
        "id": "zI_KwoDZdnif"
      },
      "source": [
        "#NUMPY"
      ]
    },
    {
      "cell_type": "markdown",
      "source": [
        "Numpy is the core library for scientific computing in Python. Numpy provides you with an array data structure that has some benefits over Python lists:\n",
        "  - more compact\n",
        "  - faster access in reading and writing items"
      ],
      "metadata": {
        "id": "E21Tcp-grixF"
      }
    },
    {
      "cell_type": "markdown",
      "metadata": {
        "id": "lZMyAdqhL9hY"
      },
      "source": [
        "First, you will import numpy package."
      ]
    },
    {
      "cell_type": "code",
      "source": [
        "import numpy as np"
      ],
      "metadata": {
        "id": "-ha8uve2r9ki"
      },
      "execution_count": 6,
      "outputs": []
    },
    {
      "cell_type": "markdown",
      "metadata": {
        "id": "DDx6v1EdL9hb"
      },
      "source": [
        "#Arrays"
      ]
    },
    {
      "cell_type": "markdown",
      "metadata": {
        "id": "f-Zv3f7LL9hc"
      },
      "source": [
        "Three commonly used arrays:\n",
        "\n",
        "![alt text](https://drive.google.com/uc?id=1a4Q_PM5W85UTKitcb6VG2NEtnj3-_8Xm)\n",
        "\n",
        "A numpy array is a grid of values. These values are of the same type. \n",
        "\n",
        "The number of dimensions is the rank of the array.\n",
        "\n",
        "- A 1D array has rank 1\n",
        "- A 2D array has rank 2 and so on\n",
        "\n",
        "You may come across \"axis 0\" which refers to rows of a 2D array and \"axis 1\" which refers to columns of a 2D array. If you have a 3D array, you have \"axis 2\" which can be though as the \"depth\" of the array as illustrated in the above figure.\n",
        "\n",
        "We can also visualize a 1D NumPy array as a list of numbers, a 2D NumPy array as a matrix, a 3D NumPy array as a cube of numbers, and so on."
      ]
    },
    {
      "cell_type": "code",
      "source": [
        "# Run this cell to see the result\n",
        "# a is a 1D array which has 3 elements\n",
        "# a.shape rturn the array dimensions\n",
        "# a[0] is the first element of a ....\n",
        "\n",
        "a = np.array([1, 2, 3])  # Create a rank 1 array\n",
        "print(type(a), a.shape, a[0], a[1], a[2])\n",
        "\n",
        "# You can change value of any element of the array by assigning it a new value\n",
        "a[0] = 10                \n",
        "print(a)                  "
      ],
      "metadata": {
        "colab": {
          "base_uri": "https://localhost:8080/"
        },
        "id": "key9zX3YsRPt",
        "outputId": "1abc70dd-8efc-43ce-919d-4a4932e0c563"
      },
      "execution_count": 7,
      "outputs": [
        {
          "output_type": "stream",
          "name": "stdout",
          "text": [
            "<class 'numpy.ndarray'> (3,) 1 2 3\n",
            "[10  2  3]\n"
          ]
        }
      ]
    },
    {
      "cell_type": "markdown",
      "source": [
        "Answers: <class 'numpy.ndarray'> (3,) 1 2 3\n",
        "\n",
        "[10  2  3]"
      ],
      "metadata": {
        "id": "HPxjxu7-sXi6"
      }
    },
    {
      "cell_type": "code",
      "source": [
        "# Here we create a 2D array. It has 2 rows and 3 columns\n",
        "# Elements of the array is arranged in this pattern\n",
        "# b[0, 0] b[0, 1] b[0, 2] \n",
        "# b[1, 0] b[1, 1] b[1, 2]\n",
        "\n",
        "b = np.array([[1, 2, 3],[4, 5, 6]])\n",
        "print(b)"
      ],
      "metadata": {
        "colab": {
          "base_uri": "https://localhost:8080/"
        },
        "id": "_emLOjavsVki",
        "outputId": "dec2695b-3809-4808-9efc-a94d7a75f5eb"
      },
      "execution_count": 8,
      "outputs": [
        {
          "output_type": "stream",
          "name": "stdout",
          "text": [
            "[[1 2 3]\n",
            " [4 5 6]]\n"
          ]
        }
      ]
    },
    {
      "cell_type": "markdown",
      "source": [
        "Answers: \n",
        "\n",
        "[[1 2 3]\n",
        "\n",
        " [4 5 6]]"
      ],
      "metadata": {
        "id": "g44KErvtscUu"
      }
    },
    {
      "cell_type": "code",
      "source": [
        "print(b.shape) # you will see (2, 3). 2 is the number of rows and 3 is the number of columns\n",
        "\n",
        "print(b[0, 0], b[0, 1], b[1, 0])"
      ],
      "metadata": {
        "colab": {
          "base_uri": "https://localhost:8080/"
        },
        "id": "FGCAXsHfsfmI",
        "outputId": "2d826489-fc52-4b74-f724-a0c72c0687a6"
      },
      "execution_count": 9,
      "outputs": [
        {
          "output_type": "stream",
          "name": "stdout",
          "text": [
            "(2, 3)\n",
            "1 2 4\n"
          ]
        }
      ]
    },
    {
      "cell_type": "markdown",
      "source": [
        "Answers:\n",
        "\n",
        "(2, 3)\n",
        "\n",
        "1 2 4\n"
      ],
      "metadata": {
        "id": "MvpiXkymsh0i"
      }
    },
    {
      "cell_type": "markdown",
      "metadata": {
        "id": "cQORyI9Nn8oa"
      },
      "source": [
        "##This table summarizes some useful funtions in numpy.\n",
        "![alt text](https://drive.google.com/uc?id=1Bn7x0EJSWYMQuAxP64HO2oy_2KZSIUvI)"
      ]
    },
    {
      "cell_type": "markdown",
      "source": [
        "Examples of functions"
      ],
      "metadata": {
        "id": "On7N6TFnssYZ"
      }
    },
    {
      "cell_type": "code",
      "metadata": {
        "id": "mVTN_EBqL9hn",
        "colab": {
          "base_uri": "https://localhost:8080/"
        },
        "outputId": "aeaa94f7-cb24-4734-9ed0-55ccbd1f7db9"
      },
      "source": [
        "# Create an matrix of all zeros\n",
        "a = np.zeros((2,2))  \n",
        "print(a)"
      ],
      "execution_count": 10,
      "outputs": [
        {
          "output_type": "stream",
          "name": "stdout",
          "text": [
            "[[0. 0.]\n",
            " [0. 0.]]\n"
          ]
        }
      ]
    },
    {
      "cell_type": "code",
      "metadata": {
        "id": "skiKlNmlL9h5",
        "colab": {
          "base_uri": "https://localhost:8080/"
        },
        "outputId": "beb50bf1-a371-4a6a-818c-ef4eb911914c"
      },
      "source": [
        "# Create an array of all ones\n",
        "b = np.ones((1,3))   \n",
        "print(b)"
      ],
      "execution_count": 11,
      "outputs": [
        {
          "output_type": "stream",
          "name": "stdout",
          "text": [
            "[[1. 1. 1.]]\n"
          ]
        }
      ]
    },
    {
      "cell_type": "code",
      "metadata": {
        "id": "-QcALHvkL9h9",
        "colab": {
          "base_uri": "https://localhost:8080/"
        },
        "outputId": "2139aec0-30da-4190-b445-42ac3b45b610"
      },
      "source": [
        "# Create a 3x3 identity matrix\n",
        "# [1 0 0\n",
        "#  0 1 0\n",
        "#  0 0 1]\n",
        "d = np.eye(3)        \n",
        "print(d)"
      ],
      "execution_count": 12,
      "outputs": [
        {
          "output_type": "stream",
          "name": "stdout",
          "text": [
            "[[1. 0. 0.]\n",
            " [0. 1. 0.]\n",
            " [0. 0. 1.]]\n"
          ]
        }
      ]
    },
    {
      "cell_type": "markdown",
      "metadata": {
        "id": "FAgL0BBWosNu"
      },
      "source": [
        "###This function **``np.linspace()``** is very useful."
      ]
    },
    {
      "cell_type": "code",
      "metadata": {
        "id": "5hv5RzSppHhr",
        "colab": {
          "base_uri": "https://localhost:8080/"
        },
        "outputId": "22a36fa0-231c-4852-ff3b-de8cdaebc869"
      },
      "source": [
        "#Create a 1D array with 11 equally spaced values from 0 to 2\n",
        "x = np.linspace(0, 2, 11)\n",
        "print(x)"
      ],
      "execution_count": 13,
      "outputs": [
        {
          "output_type": "stream",
          "name": "stdout",
          "text": [
            "[0.  0.2 0.4 0.6 0.8 1.  1.2 1.4 1.6 1.8 2. ]\n"
          ]
        }
      ]
    },
    {
      "cell_type": "markdown",
      "metadata": {
        "id": "ouah7xUBpdEG"
      },
      "source": [
        "###Another one is **``np.arange()``** to create **arithmetic sequence** (ring any bell :) ). \n",
        "\n",
        "Example: 2, 4, 6, 8 ... or 1, 5, 9, 13 ..."
      ]
    },
    {
      "cell_type": "code",
      "metadata": {
        "id": "_JxCoCXlqPZg",
        "colab": {
          "base_uri": "https://localhost:8080/"
        },
        "outputId": "ba5e78a4-d45a-45c7-8425-4beddd64b5f8"
      },
      "source": [
        "# Create a 1D array with values from 0 to 20 (exclusively) incremented by 1.5\n",
        "y = np.arange(0, 20, 1.5)\n",
        "print(y)"
      ],
      "execution_count": 14,
      "outputs": [
        {
          "output_type": "stream",
          "name": "stdout",
          "text": [
            "[ 0.   1.5  3.   4.5  6.   7.5  9.  10.5 12.  13.5 15.  16.5 18.  19.5]\n"
          ]
        }
      ]
    },
    {
      "cell_type": "code",
      "metadata": {
        "id": "HtFsr03bL9h7",
        "colab": {
          "base_uri": "https://localhost:8080/"
        },
        "outputId": "d056c2d1-448b-4e9d-855b-de20b3909faf"
      },
      "source": [
        "# Not in the above list:\n",
        "# Create a constant array\n",
        "c = np.full((3, 6), 7) \n",
        "print(c)"
      ],
      "execution_count": 15,
      "outputs": [
        {
          "output_type": "stream",
          "name": "stdout",
          "text": [
            "[[7 7 7 7 7 7]\n",
            " [7 7 7 7 7 7]\n",
            " [7 7 7 7 7 7]]\n"
          ]
        }
      ]
    },
    {
      "cell_type": "markdown",
      "metadata": {
        "id": "nRl-cUU_qjbT"
      },
      "source": [
        "###To create random numbers, use **``np.random.random()``** (uniformly distributed in the half-open interval [0.0, 1.0))"
      ]
    },
    {
      "cell_type": "code",
      "metadata": {
        "id": "RCpaYg9qL9iA",
        "colab": {
          "base_uri": "https://localhost:8080/"
        },
        "outputId": "68761c30-5301-49be-f221-cff6f8d08087"
      },
      "source": [
        "e = np.random.random((2,2)) # Create an array filled with random values\n",
        "print(e)"
      ],
      "execution_count": 16,
      "outputs": [
        {
          "output_type": "stream",
          "name": "stdout",
          "text": [
            "[[0.05245545 0.34437753]\n",
            " [0.34067785 0.0375749 ]]\n"
          ]
        }
      ]
    },
    {
      "cell_type": "markdown",
      "metadata": {
        "id": "KhF4hpA5rhZa"
      },
      "source": [
        "###To create random samples from a normal (Gaussian) distribution, use **``np.random.normal(loc=0.0, scale=1.0, size=None)``**. loc = mean and scale = standard variation"
      ]
    },
    {
      "cell_type": "markdown",
      "source": [
        "#Exercise#"
      ],
      "metadata": {
        "id": "ABrdKHB9tMK4"
      }
    },
    {
      "cell_type": "code",
      "source": [
        "mu, sigma = 0, 0.1 # mean = 0  and standard deviation = 0.1 \n",
        "# generate 1000 sample\n",
        "s = np.random.normal(mu, sigma, 1000)\n",
        "\n",
        "# You can check the sample mean and sample standard deviation by\n",
        "# np.mean(s) and np.std(s, ddof = 1) (Ignore about number 1 here. If you want to know more then we can talk)\n",
        "\n",
        "# Now, can you check if the sample mean and sample standard deviation are not much different from mu and sigma?\n",
        "# First, find the difference from mu and the sample mean. You may want to use abs() to find the magnitude of the difference\n",
        "# Then, compare it with a small number. For example, abs(.....) < .....\n",
        "# You will see True or False which is Boolean values in your first tutorial\n",
        "print(type(s))\n",
        "print(s.shape)\n",
        "print(\"Sample mean = \", np.mean(s))\n",
        "print(\"Sample STD = \", np.std(s, ddof=1))\n",
        "print(abs(mu - np.mean(s))) \n",
        "#The difference is because the distribution of sample mean is normally distributed."
      ],
      "metadata": {
        "colab": {
          "base_uri": "https://localhost:8080/"
        },
        "id": "SiYVpWittQk0",
        "outputId": "8924e3a6-bb95-4c96-bae6-0d61f228e49b"
      },
      "execution_count": 17,
      "outputs": [
        {
          "output_type": "stream",
          "name": "stdout",
          "text": [
            "<class 'numpy.ndarray'>\n",
            "(1000,)\n",
            "Sample mean =  -0.0019248836258467877\n",
            "Sample STD =  0.10537995852745459\n",
            "0.0019248836258467877\n"
          ]
        }
      ]
    },
    {
      "cell_type": "markdown",
      "metadata": {
        "id": "jI5qcSDfL9iC"
      },
      "source": [
        "#Indexing and Slicing\n",
        "- Indexing: accessing the elements of an array\n",
        "- Slicing: accessing rows and columns (or subarrays)"
      ]
    },
    {
      "cell_type": "code",
      "source": [
        "# Create the following rank 2 array with shape (3, 4)\n",
        "# [[ 1  2  3  4]\n",
        "#  [ 5  6  7  8]\n",
        "#  [ 9 10 11 12]]\n",
        "a = np.array([ [1, 2, 3, 4], [5, 6, 7, 8], [9, 10, 11, 12] ])\n",
        "\n",
        "# Access the top left entry in the array\n",
        "print(a[0,0])\n",
        "\n",
        "# Negative indices work for NumPy arrays too. Access the bottom right entry in the array:\n",
        "print(a[-1,-1])"
      ],
      "metadata": {
        "colab": {
          "base_uri": "https://localhost:8080/"
        },
        "id": "Ve4AS4UStenZ",
        "outputId": "742d5698-63aa-4732-9c68-14803b6d6d50"
      },
      "execution_count": 18,
      "outputs": [
        {
          "output_type": "stream",
          "name": "stdout",
          "text": [
            "1\n",
            "12\n"
          ]
        }
      ]
    },
    {
      "cell_type": "markdown",
      "source": [
        "Slicing: You need to specify a slice for each dimension of the array."
      ],
      "metadata": {
        "id": "2mVVdXV7thvE"
      }
    },
    {
      "cell_type": "code",
      "source": [
        "# There are a few ways to access the third row of a\n",
        "# a[2, :] (you can think of : as \"all columns\"), or\n",
        "# a[2:3, :], or\n",
        "# a[[2], :]\n",
        "# What is the difference among the three ways?\n",
        "# The first way results in a lower rank.\n",
        "# [[ 1  2  3  4]\n",
        "#  [ 5  6  7  8]\n",
        "#  [ 9 10 11 12]]\n",
        "row_3_1 = a[2, :]     \n",
        "row_3_2 = a[2:3, :]  \n",
        "row_3_3 = a[[2], :]  \n",
        "print(row_3_1, row_3_1.shape)\n",
        "print()\n",
        "print(row_3_2, row_3_2.shape)\n",
        "print()\n",
        "print(row_3_3, row_3_3.shape)\n",
        "\n",
        "# Do you see that row_3_1 has rank 1?"
      ],
      "metadata": {
        "colab": {
          "base_uri": "https://localhost:8080/"
        },
        "id": "zxGfGw2fthDW",
        "outputId": "2cfce8af-2ea4-440b-b01b-52801e9fc841"
      },
      "execution_count": 19,
      "outputs": [
        {
          "output_type": "stream",
          "name": "stdout",
          "text": [
            "[ 9 10 11 12] (4,)\n",
            "\n",
            "[[ 9 10 11 12]] (1, 4)\n",
            "\n",
            "[[ 9 10 11 12]] (1, 4)\n"
          ]
        }
      ]
    },
    {
      "cell_type": "code",
      "source": [
        "# Same thing happens when accessing columns of an array.\n",
        "# Let's access the second column of a\n",
        "# [[ 1  2  3  4]\n",
        "#  [ 5  6  7  8]\n",
        "#  [ 9 10 11 12]]\n",
        "\n",
        "col_2_1 = a[:, 1]\n",
        "col_2_2 = a[:, 1:2]\n",
        "col_2_3 = a[:, [1]]\n",
        "print(col_2_1, col_2_1.shape)\n",
        "print()\n",
        "print(col_2_2, col_2_2.shape)\n",
        "print()\n",
        "print(col_2_2, col_2_3.shape)"
      ],
      "metadata": {
        "colab": {
          "base_uri": "https://localhost:8080/"
        },
        "id": "VYixpS8OtqCd",
        "outputId": "95a2b9c4-b360-4c0a-b376-fab40c6036b6"
      },
      "execution_count": 20,
      "outputs": [
        {
          "output_type": "stream",
          "name": "stdout",
          "text": [
            "[ 2  6 10] (3,)\n",
            "\n",
            "[[ 2]\n",
            " [ 6]\n",
            " [10]] (3, 1)\n",
            "\n",
            "[[ 2]\n",
            " [ 6]\n",
            " [10]] (3, 1)\n"
          ]
        }
      ]
    },
    {
      "cell_type": "markdown",
      "source": [
        "#Exercise: Access a subarray#"
      ],
      "metadata": {
        "id": "xNbjYas2t1hW"
      }
    },
    {
      "cell_type": "code",
      "metadata": {
        "id": "wLWA0udwL9iD",
        "colab": {
          "base_uri": "https://localhost:8080/"
        },
        "outputId": "24cd4439-6fce-4ca3-98ba-9193ba24e219"
      },
      "source": [
        "# Create the following rank 2 array with shape (3, 4)\n",
        "# [[ 1  2  3  4]\n",
        "#  [ 5  6  7  8]\n",
        "#  [ 9 10 11 12]]\n",
        "a = np.array([ [1, 2, 3, 4], [5, 6, 7, 8], [9, 10, 11, 12] ])\n",
        "print(a, a.shape)\n",
        "\n",
        "# Use slicing to acesss the subarray consisting of the first 2 rows\n",
        "# and columns 1 and 2. Asign it to b. So b is a array of shape (2, 2):\n",
        "# [[2 3]\n",
        "#  [6 7]]\n",
        "b = a[:2, 1:3]\n",
        "print(b, b.shape)\n",
        "\n",
        "\n",
        "# Try to extract the subarray consisting of the last two rows\n",
        "# and  the last two columns. Asign it to c. Display c\n",
        "# [[7 8]\n",
        "#  [11 12]]\n",
        "\n",
        "c=a[-2:, -2:]\n",
        "print(c, c.shape)\n",
        "\n",
        "\n"
      ],
      "execution_count": 21,
      "outputs": [
        {
          "output_type": "stream",
          "name": "stdout",
          "text": [
            "[[ 1  2  3  4]\n",
            " [ 5  6  7  8]\n",
            " [ 9 10 11 12]] (3, 4)\n",
            "[[2 3]\n",
            " [6 7]] (2, 2)\n",
            "[[ 7  8]\n",
            " [11 12]] (2, 2)\n"
          ]
        }
      ]
    },
    {
      "cell_type": "markdown",
      "metadata": {
        "id": "KahhtZKYL9iF"
      },
      "source": [
        "NOTE: ``b`` is a **view**, not a **copy** of ``a``. For differences between views and copies, see another tutorial (if time permits)"
      ]
    },
    {
      "cell_type": "markdown",
      "metadata": {
        "id": "kaE8dBGgL9id"
      },
      "source": [
        "Boolean array indexing: this type of indexing is frequently used to select the elements of an array that satisfy some condition. "
      ]
    },
    {
      "cell_type": "code",
      "metadata": {
        "id": "32PusjtKL9id",
        "colab": {
          "base_uri": "https://localhost:8080/"
        },
        "outputId": "44b1c25e-10e3-4114-c63a-3210d3026866"
      },
      "source": [
        "a = np.array([ [1, 2, 3, 4], [5, 6, 7, 8], [9, 10, 11, 12] ])\n",
        "\n",
        "print(a)\n",
        "print()\n",
        "# Let's find elements of a that are less then 5\n",
        "bool_index = (a < 5)\n",
        "# this returns a numpy array of Booleans whose shape is the same as a\n",
        "# Each element of bool_index tells you whether the corresponding element of a is < 5 or not.\n",
        "\n",
        "# Print bool_index\n",
        "print(bool_index)"
      ],
      "execution_count": 22,
      "outputs": [
        {
          "output_type": "stream",
          "name": "stdout",
          "text": [
            "[[ 1  2  3  4]\n",
            " [ 5  6  7  8]\n",
            " [ 9 10 11 12]]\n",
            "\n",
            "[[ True  True  True  True]\n",
            " [False False False False]\n",
            " [False False False False]]\n"
          ]
        }
      ]
    },
    {
      "cell_type": "code",
      "metadata": {
        "id": "cb2IRMXaL9if",
        "colab": {
          "base_uri": "https://localhost:8080/"
        },
        "outputId": "6bb81de8-9593-4954-9811-8238f0847366"
      },
      "source": [
        "# We then can create a 1D array consisting of the elements of a that are < 5\n",
        "\n",
        "print(a[bool_index])\n",
        "print()\n",
        "\n",
        "# We combine the two steps into a single line\n",
        "print(a[a < 5])"
      ],
      "execution_count": 23,
      "outputs": [
        {
          "output_type": "stream",
          "name": "stdout",
          "text": [
            "[1 2 3 4]\n",
            "\n",
            "[1 2 3 4]\n"
          ]
        }
      ]
    },
    {
      "cell_type": "markdown",
      "metadata": {
        "id": "a1EOK8GPr23A"
      },
      "source": [
        "# Exercise"
      ]
    },
    {
      "cell_type": "code",
      "metadata": {
        "id": "zIEMxngZyOaC",
        "colab": {
          "base_uri": "https://localhost:8080/"
        },
        "outputId": "e8776d6e-7abb-402a-8931-6cba3957a940"
      },
      "source": [
        "# An exercise for you:\n",
        "# Given a = np.array([ [1, 2, 3, 4], [5, 6, 7, 8], [9, 10, 11, 12] ])\n",
        "a = np.array([ [1, 2, 3, 4], [5, 6, 7, 8], [9, 10, 11, 12] ])#\n",
        "# How can I extract numbers that are in second and third row that are between 7 and 10 inclusive\n",
        "print(a, a.shape)\n",
        "b = a[1:3]\n",
        "print(\"Elements >=7 & <= 10: \", b[(b >=7) & (b <=10)])\n",
        "\n",
        "\n",
        "\n",
        "\n"
      ],
      "execution_count": 24,
      "outputs": [
        {
          "output_type": "stream",
          "name": "stdout",
          "text": [
            "[[ 1  2  3  4]\n",
            " [ 5  6  7  8]\n",
            " [ 9 10 11 12]] (3, 4)\n",
            "Elements >=7 & <= 10:  [ 7  8  9 10]\n"
          ]
        }
      ]
    },
    {
      "cell_type": "markdown",
      "metadata": {
        "id": "TuB-fdhIL9ik"
      },
      "source": [
        "#Array Operations"
      ]
    },
    {
      "cell_type": "markdown",
      "metadata": {
        "id": "18e8V8elL9ik"
      },
      "source": [
        "Basic mathematical functions ($+$, $-$, $*$, $/$, $**$) operate *elementwise*.\n",
        "\n",
        "$**$: exponentiation"
      ]
    },
    {
      "cell_type": "code",
      "metadata": {
        "id": "KAuQvjl_7N8w",
        "colab": {
          "base_uri": "https://localhost:8080/"
        },
        "outputId": "313c38b3-6a76-4d6a-c4e2-98850b1cb3d1"
      },
      "source": [
        "v = np.array([2, 1, 4])\n",
        "w = np.array([-1, 0, 1])\n",
        "\n",
        "print(v + w)"
      ],
      "execution_count": 25,
      "outputs": [
        {
          "output_type": "stream",
          "name": "stdout",
          "text": [
            "[1 1 5]\n"
          ]
        }
      ]
    },
    {
      "cell_type": "code",
      "metadata": {
        "id": "s1uG-w8x7bvP",
        "colab": {
          "base_uri": "https://localhost:8080/"
        },
        "outputId": "c3d94625-8250-4d45-813b-8f01069f06fb"
      },
      "source": [
        "print(v - w) "
      ],
      "execution_count": 26,
      "outputs": [
        {
          "output_type": "stream",
          "name": "stdout",
          "text": [
            "[3 1 3]\n"
          ]
        }
      ]
    },
    {
      "cell_type": "code",
      "metadata": {
        "id": "qJOlFkI07eFl",
        "colab": {
          "base_uri": "https://localhost:8080/"
        },
        "outputId": "bfed7ef5-365d-440a-e964-e4673e9a7532"
      },
      "source": [
        "print(v * w)"
      ],
      "execution_count": 27,
      "outputs": [
        {
          "output_type": "stream",
          "name": "stdout",
          "text": [
            "[-2  0  4]\n"
          ]
        }
      ]
    },
    {
      "cell_type": "code",
      "metadata": {
        "id": "mlubYYyi7g9m",
        "colab": {
          "base_uri": "https://localhost:8080/"
        },
        "outputId": "46ec36ce-a881-4fe9-a1e7-c7f6b6f82b13"
      },
      "source": [
        "print(w / v)"
      ],
      "execution_count": 28,
      "outputs": [
        {
          "output_type": "stream",
          "name": "stdout",
          "text": [
            "[-0.5   0.    0.25]\n"
          ]
        }
      ]
    },
    {
      "cell_type": "code",
      "metadata": {
        "id": "Se49cm5x7r9t",
        "colab": {
          "base_uri": "https://localhost:8080/"
        },
        "outputId": "a4627df9-eb1c-44e3-e64c-d0330017a0e5"
      },
      "source": [
        "# The exponent operator $**$ also acts elementwise in the array \n",
        "print(\"v = \", v)\n",
        "print(\"v^3 =\", v ** 3)"
      ],
      "execution_count": 29,
      "outputs": [
        {
          "output_type": "stream",
          "name": "stdout",
          "text": [
            "v =  [2 1 4]\n",
            "v^3 = [ 8  1 64]\n"
          ]
        }
      ]
    },
    {
      "cell_type": "markdown",
      "metadata": {
        "id": "GedXrD2380tD"
      },
      "source": [
        "#Array Functions\n",
        "Some useful fucntions\n",
        "\n",
        "![alt text](https://drive.google.com/uc?id=1788oz7RdckkLcbwlXMmnFEs0HDDyUhuC)"
      ]
    },
    {
      "cell_type": "markdown",
      "metadata": {
        "id": "fi8ChZuh8FLx"
      },
      "source": [
        "Let's pratice array operations and functions in 2D arrays (matrices)."
      ]
    },
    {
      "cell_type": "code",
      "metadata": {
        "id": "gHKvBrSKL9il",
        "colab": {
          "base_uri": "https://localhost:8080/"
        },
        "outputId": "bb4ed3d4-b871-41f6-b333-82fbd8d7075d"
      },
      "source": [
        "x = np.array([[1, 2, 3],[4, 5, 6]])\n",
        "y = np.array([[7, 8, 9],[10, 11, 12]])\n",
        "\n",
        "# Elementwise sum\n",
        "print(x + y)\n",
        "\n",
        "# Another method\n",
        "print(np.add(x, y).shape)"
      ],
      "execution_count": 30,
      "outputs": [
        {
          "output_type": "stream",
          "name": "stdout",
          "text": [
            "[[ 8 10 12]\n",
            " [14 16 18]]\n",
            "(2, 3)\n"
          ]
        }
      ]
    },
    {
      "cell_type": "code",
      "metadata": {
        "id": "1fZtIAMxL9in",
        "colab": {
          "base_uri": "https://localhost:8080/"
        },
        "outputId": "b30d2727-aaca-414e-87e0-d491da2eca5a"
      },
      "source": [
        "# Elementwise substration\n",
        "print(x - y)\n",
        "\n",
        "# Another method\n",
        "print(np.subtract(x, y))"
      ],
      "execution_count": 31,
      "outputs": [
        {
          "output_type": "stream",
          "name": "stdout",
          "text": [
            "[[-6 -6 -6]\n",
            " [-6 -6 -6]]\n",
            "[[-6 -6 -6]\n",
            " [-6 -6 -6]]\n"
          ]
        }
      ]
    },
    {
      "cell_type": "code",
      "metadata": {
        "id": "nil4AScML9io",
        "colab": {
          "base_uri": "https://localhost:8080/"
        },
        "outputId": "73f8c49a-98c6-43fe-86d5-7d97a8ff3893"
      },
      "source": [
        "# Elementwise product\n",
        "print(x * y)\n",
        "\n",
        "# Another method\n",
        "print(np.multiply(x, y))"
      ],
      "execution_count": 32,
      "outputs": [
        {
          "output_type": "stream",
          "name": "stdout",
          "text": [
            "[[ 7 16 27]\n",
            " [40 55 72]]\n",
            "[[ 7 16 27]\n",
            " [40 55 72]]\n"
          ]
        }
      ]
    },
    {
      "cell_type": "code",
      "metadata": {
        "id": "0JoA4lH6L9ip",
        "colab": {
          "base_uri": "https://localhost:8080/"
        },
        "outputId": "174b4e9b-4e67-43d4-ea65-ca02e3b42ae0"
      },
      "source": [
        "# Elementwise division\n",
        "print(x / y)\n",
        "\n",
        "# Another method\n",
        "print(np.divide(x, y))"
      ],
      "execution_count": 33,
      "outputs": [
        {
          "output_type": "stream",
          "name": "stdout",
          "text": [
            "[[0.14285714 0.25       0.33333333]\n",
            " [0.4        0.45454545 0.5       ]]\n",
            "[[0.14285714 0.25       0.33333333]\n",
            " [0.4        0.45454545 0.5       ]]\n"
          ]
        }
      ]
    },
    {
      "cell_type": "code",
      "metadata": {
        "id": "2_jt2bPB9_J7",
        "colab": {
          "base_uri": "https://localhost:8080/"
        },
        "outputId": "e489acb4-c1ab-4d43-8de0-f6ffcd6f24e2"
      },
      "source": [
        "# Let's generate randome numbers\n",
        "arr = np.random.rand(5,10)\n",
        "print(arr)\n",
        "\n",
        "print(\"mean = \", np.mean(arr))"
      ],
      "execution_count": 34,
      "outputs": [
        {
          "output_type": "stream",
          "name": "stdout",
          "text": [
            "[[0.58763931 0.11648903 0.67687416 0.69006148 0.16555603 0.48817681\n",
            "  0.70725857 0.46213806 0.27752224 0.64456488]\n",
            " [0.20716233 0.90345737 0.39723793 0.07144165 0.92801278 0.85875567\n",
            "  0.11727751 0.03777565 0.70051459 0.38716357]\n",
            " [0.99467216 0.76384389 0.62664823 0.3414399  0.82995625 0.7561013\n",
            "  0.37946427 0.67694981 0.54700593 0.92128858]\n",
            " [0.13431238 0.79281245 0.75440205 0.04527978 0.74041395 0.32255795\n",
            "  0.98180989 0.10740998 0.92605031 0.66332546]\n",
            " [0.94582508 0.51265732 0.09099875 0.474637   0.64202012 0.3296855\n",
            "  0.64508071 0.49404141 0.51808095 0.18533613]]\n",
            "mean =  0.531383741990599\n"
          ]
        }
      ]
    },
    {
      "cell_type": "markdown",
      "metadata": {
        "id": "mm_ne-EEGoPP"
      },
      "source": [
        "Stop for a moment. We have a matrix of $5\\times 10$. Why do we only get one value of mean? What does the function calculate?\n",
        "\n",
        "Let's pratice reading documents to have answers to your questions.\n",
        "See this link: https://docs.scipy.org/doc/numpy/reference/generated/numpy.mean.html to understand the meaning of the above result.\n",
        "\n",
        "Proceed to answer the following two questions."
      ]
    },
    {
      "cell_type": "code",
      "metadata": {
        "id": "RBu81WOvJC17",
        "colab": {
          "base_uri": "https://localhost:8080/"
        },
        "outputId": "d47aa634-07b4-44ce-d855-ee24712610b5"
      },
      "source": [
        "# Given a = np.array([ [1, 2, 3, 4], [5, 6, 7, 8], [9, 10, 11, 12] ])\n",
        "a = np.array([ [1, 2, 3, 4], [5, 6, 7, 8], [9, 10, 11, 12] ])\n",
        "print(a)\n",
        "# Calculate the mean\n",
        "print(a.mean())\n"
      ],
      "execution_count": 35,
      "outputs": [
        {
          "output_type": "stream",
          "name": "stdout",
          "text": [
            "[[ 1  2  3  4]\n",
            " [ 5  6  7  8]\n",
            " [ 9 10 11 12]]\n",
            "6.5\n"
          ]
        }
      ]
    },
    {
      "cell_type": "markdown",
      "metadata": {
        "id": "TMT7-jL9sRem"
      },
      "source": [
        "# Exercise"
      ]
    },
    {
      "cell_type": "code",
      "metadata": {
        "id": "DlX0BzDkBMIF",
        "colab": {
          "base_uri": "https://localhost:8080/"
        },
        "outputId": "38b20113-e7b2-49a8-ce8b-6a9eb10e5670"
      },
      "source": [
        "# How to calculate mean values of rows?\n",
        "\n",
        "print(\"mean by row = \", a.mean(axis=1))"
      ],
      "execution_count": 36,
      "outputs": [
        {
          "output_type": "stream",
          "name": "stdout",
          "text": [
            "mean by row =  [ 2.5  6.5 10.5]\n"
          ]
        }
      ]
    },
    {
      "cell_type": "code",
      "metadata": {
        "id": "272RGK4BBUWQ",
        "colab": {
          "base_uri": "https://localhost:8080/"
        },
        "outputId": "5b0ad45d-fd05-43a9-f193-bf902c7acb30"
      },
      "source": [
        "# How to calculate mean values of columns?\n",
        "print(\"mean by col = \", a.mean(axis=0))"
      ],
      "execution_count": 37,
      "outputs": [
        {
          "output_type": "stream",
          "name": "stdout",
          "text": [
            "mean by col =  [5. 6. 7. 8.]\n"
          ]
        }
      ]
    },
    {
      "cell_type": "markdown",
      "metadata": {
        "id": "ylo01hJQtOig"
      },
      "source": [
        "# Exercise"
      ]
    },
    {
      "cell_type": "markdown",
      "metadata": {
        "id": "a5d_uujuL9it"
      },
      "source": [
        "To multiply matrices, we can use $@$. Note that $*$ is elementwise multiplication.\n",
        "\n",
        "In the example below:\n",
        "- $x$ is a $2\\times 3$ matrix \n",
        "- $y$ is a $3\\times 4$ matrix\n",
        "- The product $z=xy$ is a $2\\times 4$ matrix"
      ]
    },
    {
      "cell_type": "code",
      "metadata": {
        "id": "fPs4K1rpKKZ2",
        "colab": {
          "base_uri": "https://localhost:8080/"
        },
        "outputId": "8e74cab6-d67c-4468-b509-077f09ae5417"
      },
      "source": [
        "a= np.array([[1, 1],[2,2]])\n",
        "b= np.array([[2, 2],[1,2]])\n",
        "\n",
        "# How do we multiply two 2x2 matrixes?\n",
        "\n",
        "print(a @ b)\n"
      ],
      "execution_count": 38,
      "outputs": [
        {
          "output_type": "stream",
          "name": "stdout",
          "text": [
            "[[3 4]\n",
            " [6 8]]\n"
          ]
        }
      ]
    },
    {
      "cell_type": "code",
      "metadata": {
        "id": "I3FnmoSeL9iu",
        "colab": {
          "base_uri": "https://localhost:8080/"
        },
        "outputId": "185ae1d5-8e48-4b09-a806-4476a588632e"
      },
      "source": [
        "x = np.array([[1, 2, 3], [4, 5, 6]]) #2x3\n",
        "y = np.array([[7 , 8, 9, 10], [11, 12, 13, 14], [15, 16, 17, 18]]) #3x4\n",
        "\n",
        "z = x @ y #2x4\n",
        "\n",
        "print(\"z = \", z)\n",
        "\n",
        "print(z.shape)\n",
        "\n",
        "# z.ndim returns 2\n",
        "# 2 means that z has rank 2\n",
        "# rank 2 array in numpy is like a matrix\n",
        "print(z.ndim)"
      ],
      "execution_count": 39,
      "outputs": [
        {
          "output_type": "stream",
          "name": "stdout",
          "text": [
            "z =  [[ 74  80  86  92]\n",
            " [173 188 203 218]]\n",
            "(2, 4)\n",
            "2\n"
          ]
        }
      ]
    },
    {
      "cell_type": "markdown",
      "metadata": {
        "id": "FbE-1If_L9i0"
      },
      "source": [
        "# Exercise: Let's try function  `np.sum()`:"
      ]
    },
    {
      "cell_type": "code",
      "metadata": {
        "id": "DZUdZvPrL9i0",
        "colab": {
          "base_uri": "https://localhost:8080/"
        },
        "outputId": "f558b780-d5b5-479d-cbb2-5d229fee4b43"
      },
      "source": [
        "x = np.array([[1, 2, 3], [4, 5, 6]])\n",
        "print(x)\n",
        "\n",
        "# calculate sum of all elements of x\n",
        "print(np.sum(x))  \n",
        "\n",
        "# How about sum by columns?\n",
        "print(np.sum(x, axis=0))  \n",
        "\n",
        "# How about sum by rows?\n",
        "print(np.sum(x, axis=1))  "
      ],
      "execution_count": 40,
      "outputs": [
        {
          "output_type": "stream",
          "name": "stdout",
          "text": [
            "[[1 2 3]\n",
            " [4 5 6]]\n",
            "21\n",
            "[5 7 9]\n",
            "[ 6 15]\n"
          ]
        }
      ]
    },
    {
      "cell_type": "markdown",
      "metadata": {
        "id": "Ll_zSBONLjW_"
      },
      "source": [
        "Besides performing mathematical functions on arrays, we also need to reshape or manipulate data in arrays. Perhaps the simplest example of this type of operation is transposing a matrix. If a matrix of size $2\\times 3$ is transposed, the resultant has the size of $3\\times 2$"
      ]
    },
    {
      "cell_type": "code",
      "metadata": {
        "id": "63Yl1f3oL9i3",
        "colab": {
          "base_uri": "https://localhost:8080/"
        },
        "outputId": "80ac52fc-58a9-43fd-9817-3005c2292d40"
      },
      "source": [
        "x = np.array([[1, 2, 3], [4, 5, 6]])\n",
        "\n",
        "print(x)\n",
        "\n",
        "print(\"Transpose = \\n\", x.T)"
      ],
      "execution_count": 41,
      "outputs": [
        {
          "output_type": "stream",
          "name": "stdout",
          "text": [
            "[[1 2 3]\n",
            " [4 5 6]]\n",
            "Transpose = \n",
            " [[1 4]\n",
            " [2 5]\n",
            " [3 6]]\n"
          ]
        }
      ]
    },
    {
      "cell_type": "code",
      "metadata": {
        "id": "mkk03eNIL9i4",
        "colab": {
          "base_uri": "https://localhost:8080/"
        },
        "outputId": "25b4a33b-454d-4322-c20d-19fa2d2dc0d6"
      },
      "source": [
        "# Another example. If you have a row vector of 1x3\n",
        "# After transposing, you have a column vector of 3x1\n",
        "y = np.array([[1, 2, 3]])\n",
        "\n",
        "print(y)\n",
        "\n",
        "print(\"Transpose = \\n\", y.T)"
      ],
      "execution_count": 42,
      "outputs": [
        {
          "output_type": "stream",
          "name": "stdout",
          "text": [
            "[[1 2 3]]\n",
            "Transpose = \n",
            " [[1]\n",
            " [2]\n",
            " [3]]\n"
          ]
        }
      ]
    },
    {
      "cell_type": "markdown",
      "metadata": {
        "id": "ahdVW4iUL9i3"
      },
      "source": [
        "Full list of mathematical functions provided by numpy in this [link](http://docs.scipy.org/doc/numpy/reference/routines.math.html).\n",
        "\n"
      ]
    }
  ]
}