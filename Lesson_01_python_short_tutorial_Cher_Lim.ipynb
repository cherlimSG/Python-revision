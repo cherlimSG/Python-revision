{
  "nbformat": 4,
  "nbformat_minor": 0,
  "metadata": {
    "colab": {
      "name": "Lesson 01_python_short_tutorial Cher Lim.ipynb",
      "provenance": [],
      "collapsed_sections": [],
      "toc_visible": true
    },
    "kernelspec": {
      "display_name": "Python 3",
      "language": "python",
      "name": "python3"
    },
    "language_info": {
      "codemirror_mode": {
        "name": "ipython",
        "version": 3
      },
      "file_extension": ".py",
      "mimetype": "text/x-python",
      "name": "python",
      "nbconvert_exporter": "python",
      "pygments_lexer": "ipython3",
      "version": "3.7.6"
    }
  },
  "cells": [
    {
      "cell_type": "markdown",
      "metadata": {
        "id": "dzNng6vCL9eP"
      },
      "source": [
        "#102 MLSE - a short tutorial on Python\n",
        "\n",
        "Name: Lim Cher Eng"
      ]
    },
    {
      "cell_type": "markdown",
      "metadata": {
        "id": "qVrTo-LhL9eS"
      },
      "source": [
        "#Introduction on Python"
      ]
    },
    {
      "cell_type": "markdown",
      "metadata": {
        "id": "9t1gKp9PL9eV"
      },
      "source": [
        "Python is a general-purpose programming language on its own. When used with a few popular libraries (numpy, matplotlib... ) it becomes a powerful environment for scientific computing.\n",
        "\n",
        "A note to Matlab user: you may find this page useful for mapping Matlab functions to numpy: https://docs.scipy.org/doc/numpy-dev/user/numpy-for-matlab-users.html."
      ]
    },
    {
      "cell_type": "markdown",
      "metadata": {
        "id": "U1PvreR9L9eW"
      },
      "source": [
        "What are covered in these three short tutorials?\n",
        "\n",
        "* Basic Python: Basic data types (Numers, Lists, Tuples, Range Objects), Functions\n",
        "* Numpy: Arrays, Array indexing, Array math\n",
        "* Matplotlib: Plotting, Subplots\n"
      ]
    },
    {
      "cell_type": "code",
      "metadata": {
        "colab": {
          "background_save": true
        },
        "id": "1L4Am0QATgOc",
        "outputId": "9b8f0306-a2e7-43ce-c7f1-5621ac2238a1"
      },
      "source": [
        "# This line print python version run in Colab\n",
        "!python --version"
      ],
      "execution_count": null,
      "outputs": [
        {
          "output_type": "stream",
          "text": [
            "Python 3.7.10\n"
          ],
          "name": "stdout"
        }
      ]
    },
    {
      "cell_type": "markdown",
      "metadata": {
        "id": "JAFKYgrpL9eY"
      },
      "source": [
        "#Basics of Python"
      ]
    },
    {
      "cell_type": "markdown",
      "metadata": {
        "id": "RbFS6tdgL9ea"
      },
      "source": [
        "Python is a high-level programming language. It allows you to express very powerful ideas in just a few lines of code while being very readable. First, let's take a look of data types in Python."
      ]
    },
    {
      "cell_type": "markdown",
      "metadata": {
        "id": "NwS_hu4xL9eo"
      },
      "source": [
        "##Basic data types"
      ]
    },
    {
      "cell_type": "markdown",
      "metadata": {
        "id": "DL5sMSZ9L9eq"
      },
      "source": [
        "###Numbers"
      ]
    },
    {
      "cell_type": "markdown",
      "metadata": {
        "id": "MGS0XEWoL9er"
      },
      "source": [
        "Integers and floats work the same way as in other languages. \n",
        "\n",
        "Note: \n",
        " \n",
        "\n",
        "1.   Similar to Matlab, you do not need to declare a varialbe before using it. A variable can store an integer (e.g., 1) now but it can store a float (e.g., -1.23) later.\n",
        "2.   C/C++ is stricter in handling variables. You have to declare a variable before uing it. You cannot change the type of that variable. "
      ]
    },
    {
      "cell_type": "code",
      "metadata": {
        "colab": {
          "base_uri": "https://localhost:8080/"
        },
        "id": "KheDr_zDL9es",
        "outputId": "105154cf-01d7-4fe6-fbc0-f25eac366c43"
      },
      "source": [
        "# first, set x to 4 and print x as well as its type\n",
        "x = 4\n",
        "print(x, type(x))"
      ],
      "execution_count": null,
      "outputs": [
        {
          "output_type": "stream",
          "text": [
            "4 <class 'int'>\n"
          ],
          "name": "stdout"
        }
      ]
    },
    {
      "cell_type": "code",
      "metadata": {
        "colab": {
          "base_uri": "https://localhost:8080/"
        },
        "id": "5cQ-HCk_AJ-x",
        "outputId": "6a6f3af6-61cf-4573-8572-4557a7a009cf"
      },
      "source": [
        "# now, change x to a float, say, 3.55. Print new value of x and its type\n",
        "# your code\n",
        "\n",
        "x=3.55\n",
        "print(x, type(x))\n",
        "y=4\n",
        "print(float(y))\n",
        "\n",
        "\n",
        "\n",
        "\n"
      ],
      "execution_count": null,
      "outputs": [
        {
          "output_type": "stream",
          "text": [
            "3.55 <class 'float'>\n",
            "4.0\n"
          ],
          "name": "stdout"
        }
      ]
    },
    {
      "cell_type": "markdown",
      "metadata": {
        "id": "yN4A-ZuHPoAV"
      },
      "source": [
        "These are common operations for all numeric types (Except complex numbers. We do not use complex numers though):\n",
        "![alt text](https://drive.google.com/uc?id=1bDd_RdZYYHpuBDz1hHqzK4PsTZjbX-r9)"
      ]
    },
    {
      "cell_type": "code",
      "metadata": {
        "colab": {
          "base_uri": "https://localhost:8080/"
        },
        "id": "sk_8DFcuL9ey",
        "outputId": "fc484480-9115-4005-ccc8-c8a2e7d02e24"
      },
      "source": [
        "# Run this cell to see the results.\n",
        "print(x + 1)   # Addition\n",
        "print(x - 1)   # Subtraction\n",
        "print(x * 2)   # Multiplication\n",
        "print(x ** 2)  # Exponentiation"
      ],
      "execution_count": null,
      "outputs": [
        {
          "output_type": "stream",
          "text": [
            "4.55\n",
            "2.55\n",
            "7.1\n",
            "12.6025\n"
          ],
          "name": "stdout"
        }
      ]
    },
    {
      "cell_type": "markdown",
      "metadata": {
        "id": "dgNcwermVX9s"
      },
      "source": [
        "Like C/C++, Python also has *compound assignment* operators:$+=$, $-=$, $*=$, $/=$\n",
        "\n",
        "So,\n",
        "`x += 2`\n",
        "basically is a shorthand notation for incrementing the variable on the left (in this case, $x$) by a value on the right (in this case, $2$)."
      ]
    },
    {
      "cell_type": "code",
      "metadata": {
        "colab": {
          "base_uri": "https://localhost:8080/"
        },
        "id": "U4Jl8K0tL9e4",
        "outputId": "d5b5d628-ff5e-4d12-ea0a-a06317f43237"
      },
      "source": [
        "# Run this cell to see the results.\n",
        "x = 1 # x is 1\n",
        "x += 2 # is equvalent to x = x + 2. After this, x = 3\n",
        "print(\"x = \", x)\n",
        "\n",
        "x *= 2 # is equvalent to x = x * 2. After this, x = 6\n",
        "print(\"x = \", x)"
      ],
      "execution_count": null,
      "outputs": [
        {
          "output_type": "stream",
          "text": [
            "x =  3\n",
            "x =  6\n"
          ],
          "name": "stdout"
        }
      ]
    },
    {
      "cell_type": "code",
      "metadata": {
        "colab": {
          "base_uri": "https://localhost:8080/"
        },
        "id": "oAYsOKusWmNc",
        "outputId": "fad6ec75-add3-4fff-cb38-a775e7fb38c1"
      },
      "source": [
        "# Now divide x by 3 and print the result.\n",
        "x /= 3\n",
        "print(\"x = \", x)\n",
        "\n",
        "# Set y = 3.1 and use the shorthand notatition to perform x = x/y. Print the result.\n",
        "# Your code\n",
        "y=3.1\n",
        "x /=y\n",
        "print(\"x/y = \", x)\n"
      ],
      "execution_count": null,
      "outputs": [
        {
          "output_type": "stream",
          "text": [
            "x =  0.07168458781362007\n",
            "x/y =  0.02312406058503873\n"
          ],
          "name": "stdout"
        }
      ]
    },
    {
      "cell_type": "code",
      "metadata": {
        "colab": {
          "base_uri": "https://localhost:8080/"
        },
        "id": "w-nZ0Sg_L9e9",
        "outputId": "070beb74-b8f8-49d0-8a6c-85ff081c312c"
      },
      "source": [
        "# Run this cell to see an example with float\n",
        "y = 2.5\n",
        "print(\"Type of y: \", type(y))\n",
        "print(y, y - 2, y * 4, y ** 4)"
      ],
      "execution_count": null,
      "outputs": [
        {
          "output_type": "stream",
          "text": [
            "Type of y:  <class 'float'>\n",
            "2.5 0.5 10.0 39.0625\n"
          ],
          "name": "stdout"
        }
      ]
    },
    {
      "cell_type": "markdown",
      "metadata": {
        "id": "EqRS7qhBL9fC"
      },
      "source": [
        "###Booleans"
      ]
    },
    {
      "cell_type": "markdown",
      "metadata": {
        "id": "Nv_LIVOJL9fD"
      },
      "source": [
        "Boolean variables are either True or False. You usually have Boolean variables by \n",
        "\n",
        "\n",
        "1.   Comparison Operators\n",
        "2.   Logical Operators\n",
        "\n",
        "Comparison Operators: `==`, `!=` , `<>`, `>`, `>=`, `<`, `<=`\n",
        "\n",
        "Logical Operators: AND, OR, NOT\n",
        "\n",
        "Note: \n",
        "\n",
        "* Comparison Operators are the same as compared with other languages like C/C++.\n",
        "\n",
        "\n",
        "* Logical Operators use English words rather than symbols `&&`, `||`, etc. like C/C++.\n",
        "\n",
        "Boolean variables are used widely in **Control Flow Statements** such as `if/else`, `while` loop, `for` loop ..."
      ]
    },
    {
      "cell_type": "code",
      "metadata": {
        "colab": {
          "base_uri": "https://localhost:8080/"
        },
        "id": "RvoImwgGL9fE",
        "outputId": "c5a3b7a0-0d36-4d7e-e6d5-28b28566464d"
      },
      "source": [
        "t, f = True, False\n",
        "print(type(t))"
      ],
      "execution_count": 1,
      "outputs": [
        {
          "output_type": "stream",
          "text": [
            "<class 'bool'>\n"
          ],
          "name": "stdout"
        }
      ]
    },
    {
      "cell_type": "markdown",
      "metadata": {
        "id": "YQgmQfOgL9fI"
      },
      "source": [
        "Now let's look at the operations:"
      ]
    },
    {
      "cell_type": "code",
      "metadata": {
        "colab": {
          "base_uri": "https://localhost:8080/"
        },
        "id": "6zYm7WzCL9fK",
        "outputId": "271d78e1-771c-4ea9-fca2-242d270c20c3"
      },
      "source": [
        "print(t and f) # Logical AND;\n",
        "print(t or f)  # Logical OR;\n",
        "print(not t)   # Logical NOT;\n",
        "print(t != f)  # Logical XOR;"
      ],
      "execution_count": 2,
      "outputs": [
        {
          "output_type": "stream",
          "text": [
            "False\n",
            "True\n",
            "False\n",
            "True\n"
          ],
          "name": "stdout"
        }
      ]
    },
    {
      "cell_type": "markdown",
      "metadata": {
        "id": "UQnQWFEyL9fP"
      },
      "source": [
        "###Strings"
      ]
    },
    {
      "cell_type": "code",
      "metadata": {
        "colab": {
          "base_uri": "https://localhost:8080/"
        },
        "id": "AijEDtPFL9fP",
        "outputId": "f44f9e65-d2c8-4bb8-8ea1-091809eba31e"
      },
      "source": [
        "# We can use single quotes or double quotes to define strings\n",
        "hello = 'Hello'   \n",
        "world = \"World!\" \n",
        "\n",
        "# We can use len() to find the length of a string \n",
        "print(hello, len(hello),'\\n')\n",
        "# '\\n' is to add a new line after printing\n",
        "\n",
        "print(world, \"\\nLength of \\\"world\\\":\", len(world))"
      ],
      "execution_count": 3,
      "outputs": [
        {
          "output_type": "stream",
          "text": [
            "Hello 5 \n",
            "\n",
            "World! \n",
            "Length of \"world\": 6\n"
          ],
          "name": "stdout"
        }
      ]
    },
    {
      "cell_type": "code",
      "metadata": {
        "colab": {
          "base_uri": "https://localhost:8080/"
        },
        "id": "saDeaA7hL9fT",
        "outputId": "bd0d595c-ab1b-44a4-9c02-483179950a9e"
      },
      "source": [
        "# We can concatenate strings using +\n",
        "hw1 = hello + ' ' + world  \n",
        "print(hw1)"
      ],
      "execution_count": 5,
      "outputs": [
        {
          "output_type": "stream",
          "text": [
            "Hello World!\n"
          ],
          "name": "stdout"
        }
      ]
    },
    {
      "cell_type": "code",
      "metadata": {
        "colab": {
          "base_uri": "https://localhost:8080/"
        },
        "id": "q5fxk36tTzVM",
        "outputId": "acf44e09-dbcf-439d-9a2d-68d8d592cef0"
      },
      "source": [
        "# How to convert number to string? Use str().\n",
        "hw2 =  hello + ' ' + world + str(2020) + '!'\n",
        "print(hw2) "
      ],
      "execution_count": 6,
      "outputs": [
        {
          "output_type": "stream",
          "text": [
            "Hello World!2020!\n"
          ],
          "name": "stdout"
        }
      ]
    },
    {
      "cell_type": "markdown",
      "metadata": {
        "id": "bUpl35bIL9fc"
      },
      "source": [
        "Some useful methods for strings: "
      ]
    },
    {
      "cell_type": "code",
      "metadata": {
        "colab": {
          "base_uri": "https://localhost:8080/"
        },
        "id": "VOxGatlsL9fd",
        "outputId": "767680fd-bc1c-4447-8304-bfc1e326a57d"
      },
      "source": [
        "s = \"welcome to 102MLSE\"\n",
        "# Capitalize a string\n",
        "print(s.capitalize())\n",
        "\n",
        "# Convert a string to uppercase\n",
        "print(s.upper())       \n",
        "\n",
        "# Right-justify a string, padding with spaces\n",
        "print(s.rjust(20))      \n",
        "\n",
        "# Center a string, padding with spaces\n",
        "print(s.center(50))     "
      ],
      "execution_count": 7,
      "outputs": [
        {
          "output_type": "stream",
          "text": [
            "Welcome to 102mlse\n",
            "WELCOME TO 102MLSE\n",
            "  welcome to 102MLSE\n",
            "                welcome to 102MLSE                \n"
          ],
          "name": "stdout"
        }
      ]
    },
    {
      "cell_type": "markdown",
      "metadata": {
        "id": "06cayXLtL9fi"
      },
      "source": [
        "A list of all string methods can be found in this [link](https://docs.python.org/3.7/library/stdtypes.html#string-methods)."
      ]
    },
    {
      "cell_type": "markdown",
      "metadata": {
        "id": "p-6hClFjL9fk"
      },
      "source": [
        "##Sequences"
      ]
    },
    {
      "cell_type": "markdown",
      "metadata": {
        "id": "FD9H18eQL9fk"
      },
      "source": [
        "The main sequence types in Python are \n",
        "- lists, \n",
        "- tuples, and\n",
        "- range objects."
      ]
    },
    {
      "cell_type": "markdown",
      "metadata": {
        "id": "UsIWOe0LL9fn"
      },
      "source": [
        "###Lists"
      ]
    },
    {
      "cell_type": "markdown",
      "metadata": {
        "id": "wzxX7rgWL9fn"
      },
      "source": [
        "To create a list, use square brackets `[.....]` with items separated by commas."
      ]
    },
    {
      "cell_type": "code",
      "metadata": {
        "colab": {
          "base_uri": "https://localhost:8080/"
        },
        "id": "hk3A8pPcL9fp",
        "outputId": "90a86d36-2e36-48bf-98a0-05efc5aa72c3"
      },
      "source": [
        "cubes = [1, 8, 27, 64]   # create a list\n",
        "print(cubes)"
      ],
      "execution_count": 8,
      "outputs": [
        {
          "output_type": "stream",
          "text": [
            "[1, 8, 27, 64]\n"
          ],
          "name": "stdout"
        }
      ]
    },
    {
      "cell_type": "markdown",
      "metadata": {
        "id": "kK89_obTZA7R"
      },
      "source": [
        "Lists may contain data of any type including other lists."
      ]
    },
    {
      "cell_type": "code",
      "metadata": {
        "colab": {
          "base_uri": "https://localhost:8080/"
        },
        "id": "LPiPBeYbZJfD",
        "outputId": "619d7178-94b1-49b1-b381-052008e51488"
      },
      "source": [
        "x = ['foo', 'bar', 1, -1.5, cubes]\n",
        "print(x)"
      ],
      "execution_count": 9,
      "outputs": [
        {
          "output_type": "stream",
          "text": [
            "['foo', 'bar', 1, -1.5, [1, 8, 27, 64]]\n"
          ],
          "name": "stdout"
        }
      ]
    },
    {
      "cell_type": "code",
      "metadata": {
        "colab": {
          "base_uri": "https://localhost:8080/"
        },
        "id": "0aP4LnXsZlKE",
        "outputId": "fa52ad1d-1d77-4c92-d383-749553bff914"
      },
      "source": [
        "# Add a new element to the end of the list using append()\n",
        "x.append('hello')\n",
        "print(x)"
      ],
      "execution_count": 10,
      "outputs": [
        {
          "output_type": "stream",
          "text": [
            "['foo', 'bar', 1, -1.5, [1, 8, 27, 64], 'hello']\n"
          ],
          "name": "stdout"
        }
      ]
    },
    {
      "cell_type": "code",
      "metadata": {
        "colab": {
          "base_uri": "https://localhost:8080/"
        },
        "id": "45cf6RrpZyXd",
        "outputId": "3e4c80ca-943b-4360-8661-8134af0e66c6"
      },
      "source": [
        "# Remove the last element of list x\n",
        "x_last_removed = x.pop()     \n",
        "print(x_last_removed,'\\n', x)"
      ],
      "execution_count": 11,
      "outputs": [
        {
          "output_type": "stream",
          "text": [
            "hello \n",
            " ['foo', 'bar', 1, -1.5, [1, 8, 27, 64]]\n"
          ],
          "name": "stdout"
        }
      ]
    },
    {
      "cell_type": "markdown",
      "metadata": {
        "id": "ONDmCsfyXL9u"
      },
      "source": [
        "####Index\n",
        "\n",
        "Access the elements of a list by their indices. The first element of a list has the index of $0$"
      ]
    },
    {
      "cell_type": "code",
      "metadata": {
        "colab": {
          "base_uri": "https://localhost:8080/"
        },
        "id": "d2nzVMduXeq1",
        "outputId": "958ceaf1-515f-4ab5-8aed-18137bbbac08"
      },
      "source": [
        "primes = [2, 3, 5, 7, 11, 13, 17, 19, 23]\n",
        "\n",
        "# Access the first element of primes (index = 0)\n",
        "print(\"First element = \", primes[0])\n",
        "\n",
        "# Access the third element of primes (index = 2)\n",
        "print(\"Third element = \", primes[2])"
      ],
      "execution_count": 12,
      "outputs": [
        {
          "output_type": "stream",
          "text": [
            "First element =  2\n",
            "Third element =  5\n"
          ],
          "name": "stdout"
        }
      ]
    },
    {
      "cell_type": "markdown",
      "metadata": {
        "id": "_Hkips8kXmwA"
      },
      "source": [
        "Use negative indices to access elements starting from the end of the list. \n",
        "\n",
        "The last element of `primes` is `primes[-1]`. The second last element of `primes` is `primes[-2]`, ..."
      ]
    },
    {
      "cell_type": "code",
      "metadata": {
        "colab": {
          "base_uri": "https://localhost:8080/"
        },
        "id": "Vly6nUdoXyMv",
        "outputId": "a064d2a1-74b6-45e3-9a5b-3f8893975ac2"
      },
      "source": [
        "# the last element\n",
        "print(primes[-1])\n",
        "\n",
        "# the second last element\n",
        "print(primes[-2])"
      ],
      "execution_count": 13,
      "outputs": [
        {
          "output_type": "stream",
          "text": [
            "23\n",
            "19\n"
          ],
          "name": "stdout"
        }
      ]
    },
    {
      "cell_type": "markdown",
      "metadata": {
        "id": "ovahhxd_L9f5"
      },
      "source": [
        "####Slicing"
      ]
    },
    {
      "cell_type": "markdown",
      "metadata": {
        "id": "YeSYKhv9L9f6"
      },
      "source": [
        "Slicing is used to create a new list from a **sublist** (called a **slice**)."
      ]
    },
    {
      "cell_type": "code",
      "metadata": {
        "colab": {
          "base_uri": "https://localhost:8080/"
        },
        "id": "ninq666bL9f6",
        "outputId": "797ee54c-f150-4432-dce2-3d0d8cdd1d75"
      },
      "source": [
        "squares = [1, 4, 9, 16, 25, 36, 49, 64, 81] \n",
        "print(squares)         # to print [1, 4, 9, 16, 25, 36, 49, 64, 81]"
      ],
      "execution_count": 14,
      "outputs": [
        {
          "output_type": "stream",
          "text": [
            "[1, 4, 9, 16, 25, 36, 49, 64, 81]\n"
          ],
          "name": "stdout"
        }
      ]
    },
    {
      "cell_type": "code",
      "metadata": {
        "id": "J0wXjV1_e0Az",
        "colab": {
          "base_uri": "https://localhost:8080/"
        },
        "outputId": "42218daa-bb65-4b59-82b4-afb4a5296da2"
      },
      "source": [
        "# Get a slice from index 2 to 7 (exclusive); prints \"[9, 16, 25, 36, 49]\"\n",
        "# take note of this:\n",
        "# the slice begins at index 2 and goes up to but not including index 7\n",
        "print(squares[2:7])     "
      ],
      "execution_count": 15,
      "outputs": [
        {
          "output_type": "stream",
          "text": [
            "[9, 16, 25, 36, 49]\n"
          ],
          "name": "stdout"
        }
      ]
    },
    {
      "cell_type": "code",
      "metadata": {
        "id": "F1fx-E8pe2iR",
        "colab": {
          "base_uri": "https://localhost:8080/"
        },
        "outputId": "a26e1669-a874-49ae-8ea0-a80d09d0d9e0"
      },
      "source": [
        "# Get a slice from index 3 to the end\n",
        "print(squares[3:])     "
      ],
      "execution_count": 16,
      "outputs": [
        {
          "output_type": "stream",
          "text": [
            "[16, 25, 36, 49, 64, 81]\n"
          ],
          "name": "stdout"
        }
      ]
    },
    {
      "cell_type": "code",
      "metadata": {
        "id": "CdWTXIDDe4C3",
        "colab": {
          "base_uri": "https://localhost:8080/"
        },
        "outputId": "03542173-bef8-40c1-da73-8606e666fc59"
      },
      "source": [
        "# Get a slice from the start to index 4 (exclusive), i.e., indices from 0 to 3\n",
        "print(squares[:4])  "
      ],
      "execution_count": 17,
      "outputs": [
        {
          "output_type": "stream",
          "text": [
            "[1, 4, 9, 16]\n"
          ],
          "name": "stdout"
        }
      ]
    },
    {
      "cell_type": "code",
      "metadata": {
        "id": "m2RLNieUe5-q",
        "colab": {
          "base_uri": "https://localhost:8080/"
        },
        "outputId": "0cf3a604-e843-48ed-f00c-3b5be28e2fb1"
      },
      "source": [
        "# Get the whole list\n",
        "print(squares[:])      "
      ],
      "execution_count": 18,
      "outputs": [
        {
          "output_type": "stream",
          "text": [
            "[1, 4, 9, 16, 25, 36, 49, 64, 81]\n"
          ],
          "name": "stdout"
        }
      ]
    },
    {
      "cell_type": "code",
      "metadata": {
        "id": "jXZvq7jKe7mQ",
        "colab": {
          "base_uri": "https://localhost:8080/"
        },
        "outputId": "a16ee244-52c7-4be9-c24f-236e07336a05"
      },
      "source": [
        "# Get a slice from the start to index -1 (exclusive)\n",
        "# Index -1: the last element\n",
        "# :-1: fromt the first to the second last element\n",
        "print(squares[:-1])    # Slice indices can be negative; prints [\"0, 1, 2, 3]\""
      ],
      "execution_count": 19,
      "outputs": [
        {
          "output_type": "stream",
          "text": [
            "[1, 4, 9, 16, 25, 36, 49, 64]\n"
          ],
          "name": "stdout"
        }
      ]
    },
    {
      "cell_type": "code",
      "metadata": {
        "id": "fef83_x5e9K7",
        "colab": {
          "base_uri": "https://localhost:8080/"
        },
        "outputId": "5b1e540a-aba7-42b0-add6-2264e4c28bfc"
      },
      "source": [
        "# You can change values of elements of a list\n",
        "squares[3:6] = [0, 0, 0] \n",
        "print(squares)"
      ],
      "execution_count": 20,
      "outputs": [
        {
          "output_type": "stream",
          "text": [
            "[1, 4, 9, 0, 0, 0, 49, 64, 81]\n"
          ],
          "name": "stdout"
        }
      ]
    },
    {
      "cell_type": "markdown",
      "metadata": {
        "id": "qPsHSKB1L9hF"
      },
      "source": [
        "###Tuples"
      ]
    },
    {
      "cell_type": "markdown",
      "metadata": {
        "id": "kucc0LKVL9hG"
      },
      "source": [
        "A tuple is an (immutable) ordered list of values. To create a tuple with parentheses `(....)`:"
      ]
    },
    {
      "cell_type": "code",
      "metadata": {
        "colab": {
          "base_uri": "https://localhost:8080/"
        },
        "id": "9wHUyTKxL9hH",
        "outputId": "c8e9ccf1-adcd-4716-a396-b303ae54851d"
      },
      "source": [
        "first_day_of_school = (2020, 4, 20)\n",
        "print(first_day_of_school)"
      ],
      "execution_count": 21,
      "outputs": [
        {
          "output_type": "stream",
          "text": [
            "(2020, 4, 20)\n"
          ],
          "name": "stdout"
        }
      ]
    },
    {
      "cell_type": "code",
      "metadata": {
        "colab": {
          "base_uri": "https://localhost:8080/"
        },
        "id": "HoO8zYKzL9hJ",
        "outputId": "2d3bd301-0bfc-497b-ffcf-9adee3597f84"
      },
      "source": [
        "# Indexing and slicing are similar to lists\n",
        "print(first_day_of_school[0])\n",
        "\n",
        "print(first_day_of_school[-1])\n",
        "\n",
        "print(first_day_of_school[1:3])"
      ],
      "execution_count": 22,
      "outputs": [
        {
          "output_type": "stream",
          "text": [
            "2020\n",
            "20\n",
            "(4, 20)\n"
          ],
          "name": "stdout"
        }
      ]
    },
    {
      "cell_type": "markdown",
      "metadata": {
        "id": "MY2nqPb4gssE"
      },
      "source": [
        "###Range Objects\n",
        "\n",
        "We use `range(a, b, step)` to create an object which represents a sequence of integers from `a` to `b` (exclusively) incremented by `step`. The parameters `a`, `b` and `step` in `range(a, b, step)` are integers. You can omit `step` if it is `1`. "
      ]
    },
    {
      "cell_type": "code",
      "metadata": {
        "colab": {
          "base_uri": "https://localhost:8080/"
        },
        "id": "rPG9ktuFhdGY",
        "outputId": "2274a70c-5d58-4daa-ee57-b096c99e9d57"
      },
      "source": [
        "digits_range = range(0, 10)\n",
        "print(digits_range)"
      ],
      "execution_count": 23,
      "outputs": [
        {
          "output_type": "stream",
          "text": [
            "range(0, 10)\n"
          ],
          "name": "stdout"
        }
      ]
    },
    {
      "cell_type": "markdown",
      "metadata": {
        "id": "_7FL0rxAhqg4"
      },
      "source": [
        "Do you see a sequence of numbers from 0 to 9? \n",
        "\n",
        "Note: range object does not display the values of its entries when printed. It yields values only when needed.\n",
        "\n",
        "We can use `list()` to convert a range object to a list."
      ]
    },
    {
      "cell_type": "code",
      "metadata": {
        "colab": {
          "base_uri": "https://localhost:8080/"
        },
        "id": "L-jbISaVh9Z2",
        "outputId": "c772376c-17da-480d-9a69-c2fcd53e3cbf"
      },
      "source": [
        "digits_range = range(0, 10)\n",
        "\n",
        "digits_list = list(digits_range)\n",
        "\n",
        "print(\"list obtained from range object:\", digits_list)\n",
        "\n",
        "even_number_list = list(range(0, 10, 2))\n",
        "\n",
        "print(\"another list obtained from range object:\", even_number_list)"
      ],
      "execution_count": 24,
      "outputs": [
        {
          "output_type": "stream",
          "text": [
            "list obtained from range object: [0, 1, 2, 3, 4, 5, 6, 7, 8, 9]\n",
            "another list obtained from range object: [0, 2, 4, 6, 8]\n"
          ],
          "name": "stdout"
        }
      ]
    },
    {
      "cell_type": "markdown",
      "metadata": {
        "id": "AXA4jrEOL9hM"
      },
      "source": [
        "##Functions"
      ]
    },
    {
      "cell_type": "markdown",
      "metadata": {
        "id": "WaRms-QfL9hN"
      },
      "source": [
        "What is a function? Simply put, function is just a series of computational steps.\n",
        "\n",
        "Functions can take input parameters and return an output value."
      ]
    },
    {
      "cell_type": "markdown",
      "metadata": {
        "id": "CtEuzKODpybP"
      },
      "source": [
        "Have we used functions? Yes, `print()` is a function."
      ]
    },
    {
      "cell_type": "markdown",
      "metadata": {
        "id": "jErT6et5q8Gc"
      },
      "source": [
        "Another example: `abs()` to compute the absolute value of a real number. So when you call this function, you need to provide it with a real number. The function returns the absolute value of the provided number."
      ]
    },
    {
      "cell_type": "code",
      "metadata": {
        "colab": {
          "base_uri": "https://localhost:8080/"
        },
        "id": "FxNDNUEWrIKd",
        "outputId": "788afdfb-446e-4c7a-a610-48686d3aa466"
      },
      "source": [
        "# Number -1 is provided to abs()\n",
        "# The returned value is 1\n",
        "\n",
        "print(\"Absolute value of -1 is \", abs(-1))"
      ],
      "execution_count": 25,
      "outputs": [
        {
          "output_type": "stream",
          "text": [
            "Absolute value of -1 is  1\n"
          ],
          "name": "stdout"
        }
      ]
    },
    {
      "cell_type": "markdown",
      "metadata": {
        "id": "E2xLzI4VrPn6"
      },
      "source": [
        "`abs()` returns a value. If you do not want the returned value, you do not need to take it. Else, you can use another variable to store the returned value. Like this:"
      ]
    },
    {
      "cell_type": "code",
      "metadata": {
        "id": "5f7CKeLZr9eu"
      },
      "source": [
        "a = abs(-1) # a is now 1"
      ],
      "execution_count": 26,
      "outputs": []
    },
    {
      "cell_type": "markdown",
      "metadata": {
        "id": "vEbxu1TQudZD"
      },
      "source": [
        "and use `a` for other purposes."
      ]
    },
    {
      "cell_type": "markdown",
      "metadata": {
        "id": "IuHJsryhukWg"
      },
      "source": [
        "###Defining Functions"
      ]
    },
    {
      "cell_type": "markdown",
      "metadata": {
        "id": "nVsXSQZOuues"
      },
      "source": [
        "Let's define a very simple function. When you call it, you provide it with a number. It tells you whether the number is: positive, negative or zero.\n",
        "\n"
      ]
    },
    {
      "cell_type": "code",
      "metadata": {
        "id": "kiMDUr58L9hN"
      },
      "source": [
        "def my_sign(x):\n",
        "  if x > 0:\n",
        "    return 'positive'\n",
        "  elif x < 0:\n",
        "    return 'negative'\n",
        "  else: \n",
        "    return 'zero'"
      ],
      "execution_count": 28,
      "outputs": []
    },
    {
      "cell_type": "markdown",
      "metadata": {
        "id": "m1Upu60nvBaU"
      },
      "source": [
        "Main points:\n",
        "1. Start the function definition with the `def` keyword.\n",
        "2. After `def` is the name of the function and `(...)`.\n",
        "3. Inside the brakets, list all input parameters separated by commas.\n",
        "4. End the `def` statement with a colon `:`.\n",
        "5. Indent the body of the function by pressing 'Tab' key\n",
        "6. Use the `return` keyword to return the output of the function if necessary.\n"
      ]
    },
    {
      "cell_type": "markdown",
      "metadata": {
        "id": "oAQMKhvTv0V4"
      },
      "source": [
        "Let's test it out!"
      ]
    },
    {
      "cell_type": "code",
      "metadata": {
        "colab": {
          "base_uri": "https://localhost:8080/",
          "height": 35
        },
        "id": "DKUW113Xv3Yb",
        "outputId": "abfbd6b4-a968-4664-8b71-c57e3c71d00c"
      },
      "source": [
        "my_sign(-1)"
      ],
      "execution_count": 29,
      "outputs": [
        {
          "output_type": "execute_result",
          "data": {
            "application/vnd.google.colaboratory.intrinsic+json": {
              "type": "string"
            },
            "text/plain": [
              "'negative'"
            ]
          },
          "metadata": {
            "tags": []
          },
          "execution_count": 29
        }
      ]
    },
    {
      "cell_type": "code",
      "metadata": {
        "colab": {
          "base_uri": "https://localhost:8080/",
          "height": 35
        },
        "id": "lPGwzK4dwAGQ",
        "outputId": "b7bba196-b989-40bc-cc4a-968e1da57c71"
      },
      "source": [
        "my_sign(1.1)"
      ],
      "execution_count": 30,
      "outputs": [
        {
          "output_type": "execute_result",
          "data": {
            "application/vnd.google.colaboratory.intrinsic+json": {
              "type": "string"
            },
            "text/plain": [
              "'positive'"
            ]
          },
          "metadata": {
            "tags": []
          },
          "execution_count": 30
        }
      ]
    },
    {
      "cell_type": "markdown",
      "metadata": {
        "id": "qD7toWdYwuO9"
      },
      "source": [
        "##for loops"
      ]
    },
    {
      "cell_type": "markdown",
      "metadata": {
        "id": "lhL8MYgWwyLg"
      },
      "source": [
        "Let's take a look at this piece of code."
      ]
    },
    {
      "cell_type": "code",
      "metadata": {
        "colab": {
          "base_uri": "https://localhost:8080/"
        },
        "id": "of_b7UBRxFQH",
        "outputId": "83d536e5-a15a-4b2d-f7ae-668bf9f0424e"
      },
      "source": [
        "iterable = [1, 2, 3] # iterable is a list\n",
        "for item in iterable:\n",
        "  print(item)"
      ],
      "execution_count": 31,
      "outputs": [
        {
          "output_type": "stream",
          "text": [
            "1\n",
            "2\n",
            "3\n"
          ],
          "name": "stdout"
        }
      ]
    },
    {
      "cell_type": "markdown",
      "metadata": {
        "id": "n8pD8iolxeYz"
      },
      "source": [
        "Main points:\n",
        "1. Keywords are: `for` and `in`\n",
        "2. `iterable` is a sequence object such as a list, a tuple or a range object\n",
        "3. `item` is a variable that sequentially takes values of `iterable`\n",
        "4. What you do with `item` in the body of the loop is up to you. In this case we just simply print `item`.\n",
        "5. Be careful! We have a colon `:` at the end of `for` statement"
      ]
    },
    {
      "cell_type": "markdown",
      "metadata": {
        "id": "p7VrzH3CyKmd"
      },
      "source": [
        "Let's consider another example:\n",
        "\n",
        "- create a range object from 0 to 20\n",
        "- use a `for` loop to calculate the sum of all the numbers\n",
        "- print out the sum\n"
      ]
    },
    {
      "cell_type": "code",
      "metadata": {
        "colab": {
          "base_uri": "https://localhost:8080/"
        },
        "id": "gdUNyqgoyeJ7",
        "outputId": "25a9a119-3085-4a79-b09f-a93cf7efed32"
      },
      "source": [
        "# Your code:\n",
        "\n",
        "iterable = range(0, 21)\n",
        "sum = 0;\n",
        "for i in iterable:\n",
        "  sum = sum +i\n",
        "\n",
        "print(sum)"
      ],
      "execution_count": 32,
      "outputs": [
        {
          "output_type": "stream",
          "text": [
            "210\n"
          ],
          "name": "stdout"
        }
      ]
    }
  ]
}